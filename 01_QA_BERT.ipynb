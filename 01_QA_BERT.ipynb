{
 "cells": [
  {
   "cell_type": "code",
   "execution_count": 2,
   "metadata": {},
   "outputs": [
    {
     "name": "stdout",
     "output_type": "stream",
     "text": [
      "Requirement already satisfied: transformers in /home/dslab/anaconda3/envs/dias/lib/python3.7/site-packages (4.6.1)\n",
      "Requirement already satisfied: requests in /home/dslab/anaconda3/envs/dias/lib/python3.7/site-packages (from transformers) (2.25.1)\n",
      "Requirement already satisfied: sacremoses in /home/dslab/anaconda3/envs/dias/lib/python3.7/site-packages (from transformers) (0.0.45)\n",
      "Requirement already satisfied: tqdm>=4.27 in /home/dslab/anaconda3/envs/dias/lib/python3.7/site-packages (from transformers) (4.42.1)\n",
      "Requirement already satisfied: huggingface-hub==0.0.8 in /home/dslab/anaconda3/envs/dias/lib/python3.7/site-packages (from transformers) (0.0.8)\n",
      "Requirement already satisfied: importlib-metadata in /home/dslab/anaconda3/envs/dias/lib/python3.7/site-packages (from transformers) (4.6.3)\n",
      "Requirement already satisfied: regex!=2019.12.17 in /home/dslab/anaconda3/envs/dias/lib/python3.7/site-packages (from transformers) (2021.7.6)\n",
      "Requirement already satisfied: numpy>=1.17 in /home/dslab/anaconda3/envs/dias/lib/python3.7/site-packages (from transformers) (1.18.5)\n",
      "Requirement already satisfied: filelock in /home/dslab/anaconda3/envs/dias/lib/python3.7/site-packages (from transformers) (3.0.12)\n",
      "Requirement already satisfied: tokenizers<0.11,>=0.10.1 in /home/dslab/anaconda3/envs/dias/lib/python3.7/site-packages (from transformers) (0.10.3)\n",
      "Requirement already satisfied: packaging in /home/dslab/anaconda3/envs/dias/lib/python3.7/site-packages (from transformers) (20.9)\n",
      "Requirement already satisfied: typing-extensions>=3.6.4 in /home/dslab/anaconda3/envs/dias/lib/python3.7/site-packages (from importlib-metadata->transformers) (3.10.0.0)\n",
      "Requirement already satisfied: zipp>=0.5 in /home/dslab/anaconda3/envs/dias/lib/python3.7/site-packages (from importlib-metadata->transformers) (3.5.0)\n",
      "Requirement already satisfied: pyparsing>=2.0.2 in /home/dslab/anaconda3/envs/dias/lib/python3.7/site-packages (from packaging->transformers) (2.4.7)\n",
      "Requirement already satisfied: certifi>=2017.4.17 in /home/dslab/anaconda3/envs/dias/lib/python3.7/site-packages (from requests->transformers) (2021.5.30)\n",
      "Requirement already satisfied: urllib3<1.27,>=1.21.1 in /home/dslab/anaconda3/envs/dias/lib/python3.7/site-packages (from requests->transformers) (1.26.6)\n",
      "Requirement already satisfied: idna<3,>=2.5 in /home/dslab/anaconda3/envs/dias/lib/python3.7/site-packages (from requests->transformers) (2.10)\n",
      "Requirement already satisfied: chardet<5,>=3.0.2 in /home/dslab/anaconda3/envs/dias/lib/python3.7/site-packages (from requests->transformers) (3.0.4)\n",
      "Requirement already satisfied: joblib in /home/dslab/anaconda3/envs/dias/lib/python3.7/site-packages (from sacremoses->transformers) (1.0.1)\n",
      "Requirement already satisfied: click in /home/dslab/anaconda3/envs/dias/lib/python3.7/site-packages (from sacremoses->transformers) (7.1.2)\n",
      "Requirement already satisfied: six in /home/dslab/anaconda3/envs/dias/lib/python3.7/site-packages (from sacremoses->transformers) (1.16.0)\n"
     ]
    }
   ],
   "source": [
    "## Installation of Hugging Face Transformers:\n",
    "!pip install transformers"
   ]
  },
  {
   "cell_type": "code",
   "execution_count": 5,
   "metadata": {},
   "outputs": [
    {
     "data": {
      "application/vnd.jupyter.widget-view+json": {
       "model_id": "e1db6d3b5f6648d489a176e2c6da6718",
       "version_major": 2,
       "version_minor": 0
      },
      "text/plain": [
       "HBox(children=(FloatProgress(value=0.0, description='Downloading', max=634.0, style=ProgressStyle(description_…"
      ]
     },
     "metadata": {},
     "output_type": "display_data"
    },
    {
     "name": "stdout",
     "output_type": "stream",
     "text": [
      "\n"
     ]
    },
    {
     "data": {
      "application/vnd.jupyter.widget-view+json": {
       "model_id": "b4a722ef1e194594bb98fd4533bb0ba6",
       "version_major": 2,
       "version_minor": 0
      },
      "text/plain": [
       "HBox(children=(FloatProgress(value=0.0, description='Downloading', max=1334424802.0, style=ProgressStyle(descr…"
      ]
     },
     "metadata": {},
     "output_type": "display_data"
    },
    {
     "name": "stdout",
     "output_type": "stream",
     "text": [
      "\n"
     ]
    },
    {
     "data": {
      "application/vnd.jupyter.widget-view+json": {
       "model_id": "1f49ef6bea3544208539c420fd49d8a4",
       "version_major": 2,
       "version_minor": 0
      },
      "text/plain": [
       "HBox(children=(FloatProgress(value=0.0, description='Downloading', max=213450.0, style=ProgressStyle(descripti…"
      ]
     },
     "metadata": {},
     "output_type": "display_data"
    },
    {
     "name": "stdout",
     "output_type": "stream",
     "text": [
      "\n"
     ]
    },
    {
     "data": {
      "application/vnd.jupyter.widget-view+json": {
       "model_id": "10bbdeb01ca14acfb23735b6f01f2352",
       "version_major": 2,
       "version_minor": 0
      },
      "text/plain": [
       "HBox(children=(FloatProgress(value=0.0, description='Downloading', max=435797.0, style=ProgressStyle(descripti…"
      ]
     },
     "metadata": {},
     "output_type": "display_data"
    },
    {
     "name": "stdout",
     "output_type": "stream",
     "text": [
      "\n"
     ]
    },
    {
     "data": {
      "application/vnd.jupyter.widget-view+json": {
       "model_id": "b3a1ce918c9a4eac854cc919c616797b",
       "version_major": 2,
       "version_minor": 0
      },
      "text/plain": [
       "HBox(children=(FloatProgress(value=0.0, description='Downloading', max=29.0, style=ProgressStyle(description_w…"
      ]
     },
     "metadata": {},
     "output_type": "display_data"
    },
    {
     "name": "stdout",
     "output_type": "stream",
     "text": [
      "\n"
     ]
    }
   ],
   "source": [
    "from transformers import pipeline\n",
    "# Question answering Pipeline\n",
    "qNa = pipeline('question-answering', model='bert-large-cased-whole-word-masking-finetuned-squad', tokenizer='bert-large-cased-whole-word-masking-finetuned-squad')\n",
    "\n",
    "paragraph = \"A new study estimates that if the US had universally mandated masks on 1 April, there could have been nearly 40% fewer deaths by the start of June. Containment policies had a large impact on the number of COVID-19 cases and deaths, directly by reducing transmission rates and indirectly by constraining people’s behaviour. They account for roughly half the observed change in the growth rates of cases and deaths.\"\n"
   ]
  },
  {
   "cell_type": "code",
   "execution_count": 6,
   "metadata": {},
   "outputs": [
    {
     "name": "stdout",
     "output_type": "stream",
     "text": [
      "{'score': 0.387233704328537, 'start': 148, 'end': 168, 'answer': 'Containment policies'}\n"
     ]
    }
   ],
   "source": [
    "ans = qNa({'question': 'What is the article about?', 'context': f'{paragraph}'})\n",
    "print(ans)"
   ]
  },
  {
   "cell_type": "code",
   "execution_count": 7,
   "metadata": {},
   "outputs": [
    {
     "name": "stdout",
     "output_type": "stream",
     "text": [
      "{'score': 0.795814037322998, 'start': 34, 'end': 36, 'answer': 'US'}\n"
     ]
    }
   ],
   "source": [
    "ans = qNa({'question': 'Which country is this article about?', 'context': f'{paragraph}'})\n",
    "print(ans)"
   ]
  },
  {
   "cell_type": "code",
   "execution_count": 8,
   "metadata": {},
   "outputs": [
    {
     "name": "stdout",
     "output_type": "stream",
     "text": [
      "{'score': 0.9208251237869263, 'start': 205, 'end': 213, 'answer': 'COVID-19'}\n"
     ]
    }
   ],
   "source": [
    "ans = qNa({'question': 'About which disease is dicussed in this article?', 'context': f'{paragraph}'})\n",
    "print(ans)"
   ]
  },
  {
   "cell_type": "code",
   "execution_count": 9,
   "metadata": {},
   "outputs": [
    {
     "name": "stdout",
     "output_type": "stream",
     "text": [
      "{'score': 0.19926102459430695, 'start': 71, 'end': 78, 'answer': '1 April'}\n"
     ]
    }
   ],
   "source": [
    "ans = qNa({'question': 'What time period is discussed in this article?', 'context': f'{paragraph}'})\n",
    "print(ans)"
   ]
  },
  {
   "cell_type": "code",
   "execution_count": 10,
   "metadata": {},
   "outputs": [
    {
     "name": "stdout",
     "output_type": "stream",
     "text": [
      "{'score': 0.9669288396835327, 'start': 56, 'end': 60, 'answer': '1965'}\n"
     ]
    }
   ],
   "source": [
    "paragraph2 = \"Pink Floyd was an English rock band formed in London in 1965.\"\n",
    "ans = qNa({'question' : 'When was Pink Floyed formed?', 'context': f'{paragraph2}'})\n",
    "print(ans)"
   ]
  },
  {
   "cell_type": "code",
   "execution_count": null,
   "metadata": {},
   "outputs": [],
   "source": []
  }
 ],
 "metadata": {
  "interpreter": {
   "hash": "1b106fbd21108738803fa149333ff1f22c03887e70a1f2da5353c950ec5e59e5"
  },
  "kernelspec": {
   "display_name": "Python 3.7.11 64-bit ('dias': conda)",
   "name": "python3"
  },
  "language_info": {
   "codemirror_mode": {
    "name": "ipython",
    "version": 3
   },
   "file_extension": ".py",
   "mimetype": "text/x-python",
   "name": "python",
   "nbconvert_exporter": "python",
   "pygments_lexer": "ipython3",
   "version": "3.7.11"
  },
  "orig_nbformat": 4
 },
 "nbformat": 4,
 "nbformat_minor": 2
}
